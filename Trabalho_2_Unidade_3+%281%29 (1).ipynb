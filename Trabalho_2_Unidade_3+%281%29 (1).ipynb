{
 "cells": [
  {
   "cell_type": "markdown",
   "metadata": {},
   "source": [
    "Caros alunos(as),\n",
    "Segue a descrição do segundo trabalho da terceira unidade, cuja nota corresponde a 60% da respectiva unidade. \n",
    "<h3>Tema: distribuições contínuas e análise de confiabilidade </h3> <br></br>\n",
    "Grupo: no máximo 02 alunos\n",
    "Entregável: link para o notebook no github. No readme do github mencionar um outro link para um video no youtube descrevendo o notebook e os resultados.\n",
    "<h4>Bruno Silvino Matias</h4>\n",
    "<h3>Descrição:</h3>\n",
    "Realizar um estudo com diferentes configurações de redundância (TMR, 5MR, paralela com 2,3,4 dispositivos), valores de lambda. Identificar no estudo os valores temporais que a partir deles não se justifica o uso de redundância. Para cada cenário traçar linhas verticais indicando o MTTF de cada modelo de redundância. \n",
    "Esse trabalho terá o maior critério de exigência da disciplina. \n",
    "att\n",
    "Ivanovitch"
   ]
  },
  {
   "cell_type": "markdown",
   "metadata": {},
   "source": [
    "<h3 style=\"color:blue\">TMR - </h3> Triple Modular Redundancy"
   ]
  },
  {
   "cell_type": "code",
   "execution_count": 189,
   "metadata": {},
   "outputs": [],
   "source": [
    "import matplotlib.pyplot as plt\n",
    "import numpy as np\n",
    "import pandas as pd\n",
    "import math\n",
    "import seaborn as sns\n",
    "from scipy import linspace\n"
   ]
  },
  {
   "cell_type": "code",
   "execution_count": 190,
   "metadata": {},
   "outputs": [],
   "source": [
    "from scipy.optimize import curve_fit\n",
    "\n",
    "#Função expo\n",
    "def func(x, a, b, c):\n",
    "    return a * np.exp(-b * x) + c\n",
    "#Define the data to be fit with some noise:\n",
    "\n",
    "#Tamanho da figura\n",
    "fig, (ax1) = plt.subplots(figsize=(10,5), ncols=1, nrows=1)\n",
    "#>>>\n",
    "popt, pcov = curve_fit(func, xdata, ydata)\n",
    "popt\n",
    "\n",
    "#Traçando pontos pea\n",
    "x = np.linspace(expon.ppf(0.01),\n",
    "              expon.ppf(0.99), 10000)\n",
    "x1 = np.linspace(expon.ppf(0.01),\n",
    "              expon.ppf(0.99), 10000)\n",
    "\n",
    "#Defeito em lambda\n",
    "t1=4\n",
    "t2=2\n",
    "t3=1\n",
    "t4=0.5\n",
    "#Neperiano\n",
    "e=math.e"
   ]
  },
  {
   "cell_type": "code",
   "execution_count": 191,
   "metadata": {},
   "outputs": [
    {
     "name": "stdout",
     "output_type": "stream",
     "text": [
      "2.718281828459045\n"
     ]
    }
   ],
   "source": [
    "print(e)\n",
    "#Fórmula\n",
    "tmr = ((t1*e)**(-t2*x))-((t2*e)**(-t1*x))\n",
    "tmr2 = ((t3*e)**(-t4*x))-((t4*e)**(-t3*x))"
   ]
  },
  {
   "cell_type": "code",
   "execution_count": 192,
   "metadata": {},
   "outputs": [
    {
     "name": "stdout",
     "output_type": "stream",
     "text": [
      "[  1.89680050e-02   1.97828099e-02   2.05931685e-02 ...,   2.86209539e-10\n",
      "   2.85582515e-10   2.84956865e-10] [-0.00193334 -0.00202137 -0.00210936 ..., -0.143408   -0.14339665\n",
      " -0.14338531]\n"
     ]
    }
   ],
   "source": [
    "print(tmr,tmr2)"
   ]
  },
  {
   "cell_type": "code",
   "execution_count": 193,
   "metadata": {},
   "outputs": [
    {
     "data": {
      "image/png": "[encoded data removed]",
      "text/plain": [
       "<matplotlib.figure.Figure at 0x7fac1229fef0>"
      ]
     },
     "metadata": {},
     "output_type": "display_data"
    }
   ],
   "source": [
    "#Gravando TMR\n",
    "plt.plot(x, tmr, 'r-',\n",
    "         label='Taxa de Falha = t2 = 2$\\lambda$')\n",
    "\n",
    "\n",
    "plt.plot(x1, tmr2, 'g--',label='Taxa de Falha = t1 = 4$\\lambda$ ')\n",
    "\n",
    "#Plotando Lambda\n",
    "#plt.annotate('Taxa de Falha = t1 = 4$\\lambda$ ',xy=(1,1))\n",
    "plt.annotate('Taxa de Falha = t2 = 2$\\lambda$',xy=(1,0.89))\n",
    "#>>> '$-2\\sigma$'\n",
    "# Plot the mean in red\n",
    "#MTTF - t1 = 4$-\\lambda$ e t2\n",
    "\n",
    "mttf = ((t1+t2)/(t1*t2))\n",
    "mttf2 = ((t3+t4)/(t3*t4))\n",
    "ax1.axvline(mttf, label=\"MTTF\",color=\"g\")\n",
    "ax1.axvline(mttf2, label=\"MTTF\",color=\"b\")\n",
    "\n",
    "#Descrições da tabela\n",
    "plt.title('TMR- Triple Modular Redundancy e MTTF')\n",
    "plt.xlabel('x = tempo')\n",
    "plt.ylabel('y = Confiabilidade')\n",
    "plt.legend()\n",
    "plt.show()"
   ]
  },
  {
   "cell_type": "code",
   "execution_count": 187,
   "metadata": {},
   "outputs": [
    {
     "name": "stdout",
     "output_type": "stream",
     "text": [
      "0.75 3.0\n"
     ]
    }
   ],
   "source": [
    "#teste de MTTF\n",
    "print(mttf,mttf2)"
   ]
  },
  {
   "cell_type": "markdown",
   "metadata": {},
   "source": [
    "Fizemos teste de TMR em dois casos onde o lamba é 4 e 2, valores"
   ]
  }
 ],
 "metadata": {
  "kernelspec": {
   "display_name": "Python 3",
   "language": "python",
   "name": "python3"
  },
  "language_info": {
   "codemirror_mode": {
    "name": "ipython",
    "version": 3
   },
   "file_extension": ".py",
   "mimetype": "text/x-python",
   "name": "python",
   "nbconvert_exporter": "python",
   "pygments_lexer": "ipython3",
   "version": "3.6.2"
  }
 },
 "nbformat": 4,
 "nbformat_minor": 2
}
