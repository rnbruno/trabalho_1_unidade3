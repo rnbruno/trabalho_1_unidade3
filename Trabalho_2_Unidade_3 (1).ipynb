{
 "cells": [
  {
   "cell_type": "markdown",
   "metadata": {},
   "source": [
    "Caros alunos(as),\n",
    "Segue a descrição do segundo trabalho da terceira unidade, cuja nota corresponde a 60% da respectiva unidade. \n",
    "<h3>Tema: distribuições contínuas e análise de confiabilidade </h3> <br></br>\n",
    "Grupo: no máximo 02 alunos\n",
    "Entregável: link para o notebook no github. No readme do github mencionar um outro link para um video no youtube descrevendo o notebook e os resultados.\n",
    "<h4>Bruno Silvino Matias</h4>\n",
    "<h3>Descrição:</h3>\n",
    "Realizar um estudo com diferentes configurações de redundância (TMR, 5MR, paralela com 2,3,4 dispositivos), valores de lambda. Identificar no estudo os valores temporais que a partir deles não se justifica o uso de redundância. Para cada cenário traçar linhas verticais indicando o MTTF de cada modelo de redundância. \n",
    "Esse trabalho terá o maior critério de exigência da disciplina. \n",
    "att\n",
    "Ivanovitch"
   ]
  },
  {
   "cell_type": "markdown",
   "metadata": {},
   "source": [
    "<h3 style=\"color:blue\">TMR - </h3> Triple Modular Redundancy"
   ]
  },
  {
   "cell_type": "code",
   "execution_count": null,
   "metadata": {},
   "outputs": [],
   "source": []
  }
 ],
 "metadata": {
  "kernelspec": {
   "display_name": "Python 3",
   "language": "python",
   "name": "python3"
  },
  "language_info": {
   "codemirror_mode": {
    "name": "ipython",
    "version": 3
   },
   "file_extension": ".py",
   "mimetype": "text/x-python",
   "name": "python",
   "nbconvert_exporter": "python",
   "pygments_lexer": "ipython3",
   "version": "3.6.2"
  }
 },
 "nbformat": 4,
 "nbformat_minor": 2
}
