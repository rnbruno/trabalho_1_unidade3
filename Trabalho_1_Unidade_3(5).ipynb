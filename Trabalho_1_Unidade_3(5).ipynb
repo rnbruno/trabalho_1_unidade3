{
 "cells": [
  {
   "cell_type": "markdown",
   "metadata": {},
   "source": [
    "Aluno: Bruno Silvino Matias\n",
    "\n",
    "Caros alunos(as),\n",
    "\n",
    "No \"Trabalho 01 Unidade 03\" vocês deverão enviar individualmente o link do repositório no github, contendo:\n",
    "\n",
    "- notebook respondido da aula 18\n",
    "\n",
    "- notebook com o código reproduzindo todos os gráficos da aula 19.\n",
    "\n",
    "Esse trabalho irá compor 40% da nota referente a terceira unidade. \n",
    "\n",
    "att,\n",
    "\n",
    " \n",
    "\n",
    "Ivanovitch"
   ]
  },
  {
   "cell_type": "markdown",
   "metadata": {},
   "source": [
    "Vamos analisar a dteday - a data que olhamos e o cnt -numero de bicicletas alugadas <h3>CDF Função de Distribuição Acumulada</h3>"
   ]
  },
  {
   "cell_type": "code",
   "execution_count": 499,
   "metadata": {},
   "outputs": [
    {
     "data": {
      "text/html": [
       "<div>\n",
       "<style>\n",
       "    .dataframe thead tr:only-child th {\n",
       "        text-align: right;\n",
       "    }\n",
       "\n",
       "    .dataframe thead th {\n",
       "        text-align: left;\n",
       "    }\n",
       "\n",
       "    .dataframe tbody tr th {\n",
       "        vertical-align: top;\n",
       "    }\n",
       "</style>\n",
       "<table border=\"1\" class=\"dataframe\">\n",
       "  <thead>\n",
       "    <tr style=\"text-align: right;\">\n",
       "      <th></th>\n",
       "      <th>instant</th>\n",
       "      <th>dteday</th>\n",
       "      <th>season</th>\n",
       "      <th>yr</th>\n",
       "      <th>mnth</th>\n",
       "      <th>holiday</th>\n",
       "      <th>weekday</th>\n",
       "      <th>workingday</th>\n",
       "      <th>weathersit</th>\n",
       "      <th>temp</th>\n",
       "      <th>atemp</th>\n",
       "      <th>hum</th>\n",
       "      <th>windspeed</th>\n",
       "      <th>casual</th>\n",
       "      <th>registered</th>\n",
       "      <th>cnt</th>\n",
       "    </tr>\n",
       "  </thead>\n",
       "  <tbody>\n",
       "    <tr>\n",
       "      <th>0</th>\n",
       "      <td>1</td>\n",
       "      <td>2011-01-01</td>\n",
       "      <td>1</td>\n",
       "      <td>0</td>\n",
       "      <td>1</td>\n",
       "      <td>0</td>\n",
       "      <td>6</td>\n",
       "      <td>0</td>\n",
       "      <td>2</td>\n",
       "      <td>0.344167</td>\n",
       "      <td>0.363625</td>\n",
       "      <td>0.805833</td>\n",
       "      <td>0.160446</td>\n",
       "      <td>331</td>\n",
       "      <td>654</td>\n",
       "      <td>985</td>\n",
       "    </tr>\n",
       "    <tr>\n",
       "      <th>1</th>\n",
       "      <td>2</td>\n",
       "      <td>2011-01-02</td>\n",
       "      <td>1</td>\n",
       "      <td>0</td>\n",
       "      <td>1</td>\n",
       "      <td>0</td>\n",
       "      <td>0</td>\n",
       "      <td>0</td>\n",
       "      <td>2</td>\n",
       "      <td>0.363478</td>\n",
       "      <td>0.353739</td>\n",
       "      <td>0.696087</td>\n",
       "      <td>0.248539</td>\n",
       "      <td>131</td>\n",
       "      <td>670</td>\n",
       "      <td>801</td>\n",
       "    </tr>\n",
       "    <tr>\n",
       "      <th>2</th>\n",
       "      <td>3</td>\n",
       "      <td>2011-01-03</td>\n",
       "      <td>1</td>\n",
       "      <td>0</td>\n",
       "      <td>1</td>\n",
       "      <td>0</td>\n",
       "      <td>1</td>\n",
       "      <td>1</td>\n",
       "      <td>1</td>\n",
       "      <td>0.196364</td>\n",
       "      <td>0.189405</td>\n",
       "      <td>0.437273</td>\n",
       "      <td>0.248309</td>\n",
       "      <td>120</td>\n",
       "      <td>1229</td>\n",
       "      <td>1349</td>\n",
       "    </tr>\n",
       "    <tr>\n",
       "      <th>3</th>\n",
       "      <td>4</td>\n",
       "      <td>2011-01-04</td>\n",
       "      <td>1</td>\n",
       "      <td>0</td>\n",
       "      <td>1</td>\n",
       "      <td>0</td>\n",
       "      <td>2</td>\n",
       "      <td>1</td>\n",
       "      <td>1</td>\n",
       "      <td>0.200000</td>\n",
       "      <td>0.212122</td>\n",
       "      <td>0.590435</td>\n",
       "      <td>0.160296</td>\n",
       "      <td>108</td>\n",
       "      <td>1454</td>\n",
       "      <td>1562</td>\n",
       "    </tr>\n",
       "    <tr>\n",
       "      <th>4</th>\n",
       "      <td>5</td>\n",
       "      <td>2011-01-05</td>\n",
       "      <td>1</td>\n",
       "      <td>0</td>\n",
       "      <td>1</td>\n",
       "      <td>0</td>\n",
       "      <td>3</td>\n",
       "      <td>1</td>\n",
       "      <td>1</td>\n",
       "      <td>0.226957</td>\n",
       "      <td>0.229270</td>\n",
       "      <td>0.436957</td>\n",
       "      <td>0.186900</td>\n",
       "      <td>82</td>\n",
       "      <td>1518</td>\n",
       "      <td>1600</td>\n",
       "    </tr>\n",
       "  </tbody>\n",
       "</table>\n",
       "</div>"
      ],
      "text/plain": [
       "   instant      dteday  season  yr  mnth  holiday  weekday  workingday  \\\n",
       "0        1  2011-01-01       1   0     1        0        6           0   \n",
       "1        2  2011-01-02       1   0     1        0        0           0   \n",
       "2        3  2011-01-03       1   0     1        0        1           1   \n",
       "3        4  2011-01-04       1   0     1        0        2           1   \n",
       "4        5  2011-01-05       1   0     1        0        3           1   \n",
       "\n",
       "   weathersit      temp     atemp       hum  windspeed  casual  registered  \\\n",
       "0           2  0.344167  0.363625  0.805833   0.160446     331         654   \n",
       "1           2  0.363478  0.353739  0.696087   0.248539     131         670   \n",
       "2           1  0.196364  0.189405  0.437273   0.248309     120        1229   \n",
       "3           1  0.200000  0.212122  0.590435   0.160296     108        1454   \n",
       "4           1  0.226957  0.229270  0.436957   0.186900      82        1518   \n",
       "\n",
       "    cnt  \n",
       "0   985  \n",
       "1   801  \n",
       "2  1349  \n",
       "3  1562  \n",
       "4  1600  "
      ]
     },
     "execution_count": 499,
     "metadata": {},
     "output_type": "execute_result"
    }
   ],
   "source": [
    "import matplotlib.pyplot as plt\n",
    "import numpy as np\n",
    "import pandas as pd\n",
    "import math\n",
    "import seaborn as sns\n",
    "from scipy import linspace\n",
    "#from scipy import stats\n",
    "#from scipy.stats.stats import pearsonr\n",
    "\n",
    "bikes = pd.read_csv(\"bike_rental_day.csv\")\n",
    "bikes.head()"
   ]
  },
  {
   "cell_type": "code",
   "execution_count": 500,
   "metadata": {},
   "outputs": [
    {
     "name": "stdout",
     "output_type": "stream",
     "text": [
      "286\n"
     ]
    }
   ],
   "source": [
    "#Casos > 5000 aluguéis\n",
    "print(len(bikes[\"cnt\"][bikes[\"cnt\"] >+ 5000]))"
   ]
  },
  {
   "cell_type": "code",
   "execution_count": 501,
   "metadata": {},
   "outputs": [
    {
     "data": {
      "text/plain": [
       "731"
      ]
     },
     "execution_count": 501,
     "metadata": {},
     "output_type": "execute_result"
    }
   ],
   "source": [
    "#Verificando a quantidade de alugueis\n",
    "len(bikes)"
   ]
  },
  {
   "cell_type": "code",
   "execution_count": 502,
   "metadata": {},
   "outputs": [
    {
     "data": {
      "text/plain": [
       "instant       False\n",
       "dteday        False\n",
       "season        False\n",
       "yr            False\n",
       "mnth          False\n",
       "holiday       False\n",
       "weekday       False\n",
       "workingday    False\n",
       "weathersit    False\n",
       "temp          False\n",
       "atemp         False\n",
       "hum           False\n",
       "windspeed     False\n",
       "casual        False\n",
       "registered    False\n",
       "cnt           False\n",
       "dtype: bool"
      ]
     },
     "execution_count": 502,
     "metadata": {},
     "output_type": "execute_result"
    }
   ],
   "source": [
    "#verificando se existem colunas com valores Faltantes\n",
    "bikes.isnull().any()\n"
   ]
  },
  {
   "cell_type": "markdown",
   "metadata": {},
   "source": [
    "Description:\n",
    "\n",
    "    1.Encontre a probabilidade de haver mais de 5000 cavaleiros em um único dia (usando a coluna cnt).\n",
    "    2.Atribua o resultado a prob_over_5000"
   ]
  },
  {
   "cell_type": "code",
   "execution_count": 503,
   "metadata": {},
   "outputs": [
    {
     "name": "stdout",
     "output_type": "stream",
     "text": [
      "0.39\n"
     ]
    }
   ],
   "source": [
    "#Calculando probabilidade Valores mais de 5000 (ou seja >=5001) usuário de bike nos 731 dias computados. \n",
    "#Criamos o valor em float e em sedguida arredondamos paras duas casas decimais\n",
    "prob_over_5000 = round(float(len(bikes[\"cnt\"][bikes[\"cnt\"] > 5000]))/len(bikes),2)\n",
    "print(prob_over_5000)\n"
   ]
  },
  {
   "cell_type": "markdown",
   "metadata": {},
   "source": [
    "Descrição:\n",
    "\n",
    "    1.Usando o conhecimento da última missão, crie uma função que pode calcular a probabilidade de k resultados de N eventos ocorridos.\n",
    "    2.Use a função para encontrar a probabilidade de cada número de resultados em quantidades de resultados ocorrendo.\n",
    "        Um resultado é um dia em que há mais de 5000 cavaleiros, com p = .39.\n",
    "        Você deve ter uma lista com 31 itens, onde o primeiro item é a probabilidade de 0 dias em 30 com mais de 5000 cavaleiros, o segundo é a probabilidade de 1 dia de 30, e assim por diante, até 30 dias fora de 30.\n",
    "        Atribua a lista para outcome_probs."
   ]
  },
  {
   "cell_type": "markdown",
   "metadata": {},
   "source": [
    "$p^k \\times (1 - p)^{N-k}\\binom{N}{k}$"
   ]
  },
  {
   "cell_type": "code",
   "execution_count": 504,
   "metadata": {},
   "outputs": [],
   "source": [
    "import math\n",
    "# Criando a lista de 30 elementos que representam o k de 0 até 30\n",
    "outcome_counts = list(range(31))\n",
    "\n",
    "#N = quantidade total de evento\n",
    "#k = A quantiodade de dias\n",
    "def find_probability(N, k, p, q):\n",
    "    \n",
    "    probability=(p**k)*((q)**(N-k))*((math.factorial(N))/(math.factorial(k)*math.factorial(N-k)))\n",
    "    #testando valores \n",
    "    #a=(p**k)\n",
    "    return probability\n",
    "\n",
    "outcome_probs = [find_probability(30, i, .39, .61) for i in outcome_counts]\n",
    "for i in list(range(30)):\n",
    "    string=\"Para (k=\"+str(i)+\")\""
   ]
  },
  {
   "cell_type": "code",
   "execution_count": 505,
   "metadata": {},
   "outputs": [
    {
     "name": "stdout",
     "output_type": "stream",
     "text": [
      "Para (k= 0)=3.62990325539e-07\n",
      "Para (k= 1)=6.96227345707e-06\n",
      "Para (k= 2)=6.45436990159e-05\n",
      "Para (k= 3)=0.000385146007243\n",
      "Para (k= 4)=0.00166212600667\n",
      "Para (k= 5)=0.00552588777298\n",
      "Para (k= 6)=0.0147206026739\n",
      "Para (k= 7)=0.0322681126529\n",
      "Para (k= 8)=0.0593124939542\n",
      "Para (k= 9)=0.0926960288028\n",
      "Para (k= 10)=0.12445581572\n",
      "Para (k= 11)=0.144672930346\n",
      "Para (k= 12)=0.146451695883\n",
      "Para (k= 13)=0.129645763568\n",
      "Para (k= 14)=0.100650048297\n",
      "Para (k= 15)=0.0686400329371\n",
      "Para (k= 16)=0.0411418230207\n",
      "Para (k= 17)=0.0216619434612\n",
      "Para (k= 18)=0.0100023728004\n",
      "Para (k= 19)=0.00403892189007\n",
      "Para (k= 20)=0.00142024384495\n",
      "Para (k= 21)=0.00043239273968\n",
      "Para (k= 22)=0.000113092288843\n",
      "Para (k= 23)=2.51495325154e-05\n",
      "Para (k= 24)=4.689769383e-06\n",
      "Para (k= 25)=7.19610515162e-07\n",
      "Para (k= 26)=8.84767026838e-08\n",
      "Para (k= 27)=8.38030699373e-09\n",
      "Para (k= 28)=5.74060842076e-10\n",
      "Para (k= 29)=2.53118969372e-11\n",
      "Para (k= 30)=5.39433869154e-13\n"
     ]
    }
   ],
   "source": [
    "#PMF = Calculando a probabilidade de que uma variável aleatória tenha exatamente um determinado valor.\n",
    "#k= dias\n",
    "\n",
    "for i in outcome_counts:\n",
    "    resultado=\"Para (k= \"+str(i)+\")=\"+str(outcome_probs[i])\n",
    "    print(resultado)"
   ]
  },
  {
   "cell_type": "code",
   "execution_count": 506,
   "metadata": {},
   "outputs": [
    {
     "data": {
      "image/png": "[encoded data removed]",
      "text/plain": [
       "<matplotlib.figure.Figure at 0x9a01a52c>"
      ]
     },
     "metadata": {},
     "output_type": "display_data"
    }
   ],
   "source": [
    "\n",
    "# Mostrar cada número de dias está  provavelmente entre os dias 10 e 15.\n",
    "plt.bar(outcome_counts, outcome_probs)\n",
    "\n",
    "plt.xlabel('DIAS  > 5000')\n",
    "plt.ylabel('Probabilidade')\n",
    "\n",
    "plt.show()\n",
    "\n"
   ]
  },
  {
   "cell_type": "markdown",
   "metadata": {},
   "source": [
    "Descrição:\n",
    "\n",
    "    Gere uma distribuição binomial e, em seguida, encontre as probabilidades para cada valor em issue_counts.\n",
    "    \n",
    "    Use N = 30 e p = .39, como estamos fazendo isso para os dados de bikesharing.\n",
    "    Traçar os dados resultantes como um gráfico de barras.\n"
   ]
  },
  {
   "cell_type": "code",
   "execution_count": 480,
   "metadata": {},
   "outputs": [
    {
     "name": "stdout",
     "output_type": "stream",
     "text": [
      "[  3.62990326e-07   6.96227346e-06   6.45436990e-05   3.85146007e-04\n",
      "   1.66212601e-03   5.52588777e-03   1.47206027e-02   3.22681127e-02\n",
      "   5.93124940e-02   9.26960288e-02   1.24455816e-01   1.44672930e-01\n",
      "   1.46451696e-01   1.29645764e-01   1.00650048e-01   6.86400329e-02\n",
      "   4.11418230e-02   2.16619435e-02   1.00023728e-02   4.03892189e-03\n",
      "   1.42024384e-03   4.32392740e-04   1.13092289e-04   2.51495325e-05\n",
      "   4.68976938e-06   7.19610515e-07   8.84767027e-08   8.38030699e-09\n",
      "   5.74060842e-10   2.53118969e-11   5.39433869e-13]\n"
     ]
    }
   ],
   "source": [
    "#N= A quantidade total de eventos\n",
    "#p = a probabilidade dos resultados esperados.\n",
    "\n",
    "#Na PMF\n",
    "#\n",
    "#x: A lista de saída - outcomes_prob,\n",
    "#n: A quantidade total de eventos\n",
    "#p: a probabilidade dos resultados esperados.\n",
    "\n",
    "from scipy import linspace\n",
    "from scipy.stats import binom\n",
    "\n",
    "N=30\n",
    "p=.39\n",
    "# CCriar um arranjo de elementos de 0 a 30 = 31 elementos\n",
    "outcome_counts_2 = linspace(0,30,31)\n",
    "#verificando valores\n",
    "##print(outcome_counts_2)\n",
    "# Criando a distribuição binomial das probabilidades, uma cara cada item do outcome_counts_02\n",
    "dist = binom.pmf(outcome_counts_2,N,p)\n",
    "#verificando valores\n",
    "print(dist)\n"
   ]
  },
  {
   "cell_type": "code",
   "execution_count": 481,
   "metadata": {},
   "outputs": [
    {
     "data": {
      "image/png": "[encoded data removed]",
      "text/plain": [
       "<matplotlib.figure.Figure at 0x999a88ac>"
      ]
     },
     "metadata": {},
     "output_type": "display_data"
    }
   ],
   "source": [
    "\n",
    "# Mostrar cada número de dias está  provavelmente entre os dias 10 e 15.\n",
    "plt.bar(outcome_counts, outcome_probs)\n",
    "\n",
    "plt.xlabel('#numeros de dias que possuem  > 5000 andadores de bicicleta nos proximos 30 dias')\n",
    "plt.ylabel('Probabilidade')\n",
    "plt.show()"
   ]
  },
  {
   "cell_type": "markdown",
   "metadata": {},
   "source": [
    "\n",
    "Descrição:\n",
    "\n",
    "     Calcule a média para os dados de compartilhamento das bikes, onde N = 30 e p = .39.\n",
    "     Atribua o resultado a dist_mean."
   ]
  },
  {
   "cell_type": "code",
   "execution_count": 482,
   "metadata": {},
   "outputs": [
    {
     "name": "stdout",
     "output_type": "stream",
     "text": [
      "11.7\n"
     ]
    }
   ],
   "source": [
    "#cAlculando a média da distribução\n",
    "dist_mean= 30*.39\n",
    "print(dist_mean)"
   ]
  },
  {
   "cell_type": "markdown",
   "metadata": {},
   "source": [
    "Descrição:\n",
    "\n",
    "     Calcule o desvio padrão para os dados de bikesharing, onde N = 30 e p = .39.\n",
    "     Atribua o resultado a dist_stdev.\n",
    "     \n"
   ]
  },
  {
   "cell_type": "code",
   "execution_count": 483,
   "metadata": {},
   "outputs": [
    {
     "name": "stdout",
     "output_type": "stream",
     "text": [
      "2.67151642331\n"
     ]
    }
   ],
   "source": [
    "#Calculando o Desvio Padrao\n",
    "dist_stdev = (N*p*(1-p))**0.5\n",
    "print(dist_stdev)"
   ]
  },
  {
   "cell_type": "markdown",
   "metadata": {},
   "source": [
    "<h3> Densidade Cumulativa</h3>\n",
    "<p>\n",
    "Descrição:\n",
    "\n",
    "    Crie uma distribuição cumulativa onde N = 30 e p = .39 e gere um gráfico de linha da distribuição.\n",
    "</p>"
   ]
  },
  {
   "cell_type": "code",
   "execution_count": 485,
   "metadata": {},
   "outputs": [
    {
     "name": "stdout",
     "output_type": "stream",
     "text": [
      "[  3.62990326e-07   7.32526378e-06   7.18689628e-05   4.57014970e-04\n",
      "   2.11914098e-03   7.64502875e-03   2.23656314e-02   5.46337441e-02\n",
      "   1.13946238e-01   2.06642267e-01   3.31098083e-01   4.75771013e-01\n",
      "   6.22222709e-01   7.51868472e-01   8.52518521e-01   9.21158554e-01\n",
      "   9.62300377e-01   9.83962320e-01   9.93964693e-01   9.98003615e-01\n",
      "   9.99423859e-01   9.99856251e-01   9.99969344e-01   9.99994493e-01\n",
      "   9.99999183e-01   9.99999903e-01   9.99999991e-01   9.99999999e-01\n",
      "   1.00000000e+00   1.00000000e+00   1.00000000e+00]\n"
     ]
    }
   ],
   "source": [
    "from scipy import linspace\n",
    "from scipy.stats import binom\n",
    "# Arranjo de de valores de 0 a 30/ criado anteriormente\n",
    "\n",
    "# Criando as probabilidade cumlativas, um para cada entrada em outcome_counts\n",
    "\n",
    "dist_cum = binom.cdf(outcome_counts,30,0.39)\n",
    "print(dist_cum)"
   ]
  },
  {
   "cell_type": "code",
   "execution_count": 488,
   "metadata": {},
   "outputs": [
    {
     "data": {
      "image/png": "[encoded data removed]",
      "text/plain": [
       "<matplotlib.figure.Figure at 0x9a42226c>"
      ]
     },
     "metadata": {},
     "output_type": "display_data"
    }
   ],
   "source": [
    "plt.bar(outcome_counts, dist_cum)\n",
    "\n",
    "plt.xlabel('#A cada dia analisado sua probabilidade eh somada aos dias passados')\n",
    "plt.ylabel('Probabilidade')\n",
    "plt.show()"
   ]
  },
  {
   "cell_type": "markdown",
   "metadata": {},
   "source": [
    "Descrição:\n",
    "\n",
    "    Encontre a probabilidade para a esquerda de k = 16 (incluindo 16) quando N = 30 e p = .39.\n",
    "        Atribua o resultado para left_16.\n",
    "    Encontre a probabilidade para a direita de k = 16 quando N = 30 e p = .39.\n",
    "        Atribua o resultado a right_16."
   ]
  },
  {
   "cell_type": "code",
   "execution_count": 514,
   "metadata": {},
   "outputs": [
    {
     "name": "stdout",
     "output_type": "stream",
     "text": [
      "(0.96230037660548828, 0.037699623394511717)\n"
     ]
    }
   ],
   "source": [
    "#K= DIAS A SEREM VISUALIZADOS\n",
    "k=16\n",
    "#  A soma de todas as probabilidades a esquerda de k e k também é.\n",
    "left_16 = binom.cdf(k,N,p)\n",
    "\n",
    " # A soma de todas as probabilidades a direita de k é.\n",
    "right_16 = 1 - left\n",
    "\n",
    "print(left, right)"
   ]
  },
  {
   "cell_type": "markdown",
   "metadata": {},
   "source": [
    "<h3>Distribuição Geometrica</h3>"
   ]
  },
  {
   "cell_type": "code",
   "execution_count": 641,
   "metadata": {},
   "outputs": [
    {
     "name": "stdout",
     "output_type": "stream",
     "text": [
      "[  0.00000000e+00   3.90000000e-01   2.37900000e-01   1.45119000e-01\n",
      "   8.85225900e-02   5.39987799e-02   3.29392557e-02   2.00929460e-02\n",
      "   1.22566971e-02   7.47658521e-03   4.56071698e-03   2.78203736e-03\n",
      "   1.69704279e-03   1.03519610e-03   6.31469621e-04   3.85196469e-04\n",
      "   2.34969846e-04   1.43331606e-04   8.74322797e-05   5.33336906e-05\n",
      "   3.25335513e-05   1.98454663e-05   1.21057344e-05   7.38449800e-06\n",
      "   4.50454378e-06   2.74777171e-06   1.67614074e-06   1.02244585e-06\n",
      "   6.23691970e-07   3.80452101e-07   2.32075782e-07]\n"
     ]
    },
    {
     "data": {
      "image/png": "[encoded data removed]",
      "text/plain": [
       "<matplotlib.figure.Figure at 0x9ebffeec>"
      ]
     },
     "metadata": {},
     "output_type": "display_data"
    }
   ],
   "source": [
    "from scipy import linspace\n",
    "from scipy.stats import geom\n",
    "\n",
    "# Arranjo de de valores de 0 a 30/ criado anteriormente outcome_counts = linspace(0,30,31)\n",
    "\n",
    "outcome_probs_gm = geom.pmf(outcome_counts,0.39)\n",
    "print(outcome_probs_gm)\n",
    "plt.bar(outcome_counts, outcome_probs_gm)\n",
    "plt.show()"
   ]
  },
  {
   "cell_type": "markdown",
   "metadata": {},
   "source": [
    "<h3>Distribuição Hipergometrica</h3>"
   ]
  },
  {
   "cell_type": "code",
   "execution_count": 670,
   "metadata": {},
   "outputs": [
    {
     "name": "stdout",
     "output_type": "stream",
     "text": [
      "[ 0  1  2  3  4  5  6  7  8  9 10 11 12 13 14 15 16 17 18 19 20]\n",
      "(array([ 0.40333824,  0.41905272,  0.15311542,  0.02325804,  0.00123558,\n",
      "        0.        ,  0.        ,  0.        ,  0.        ,  0.        ,\n",
      "        0.        ,  0.        ,  0.        ,  0.        ,  0.        ,\n",
      "        0.        ,  0.        ,  0.        ,  0.        ,  0.        ,  0.        ]), ';;;;', <scipy.stats._distn_infrastructure.rv_frozen object at 0x99afccec>)\n"
     ]
    },
    {
     "data": {
      "image/png": "[encoded data removed]",
      "text/plain": [
       "<matplotlib.figure.Figure at 0x99afcb8c>"
      ]
     },
     "metadata": {},
     "output_type": "display_data"
    }
   ],
   "source": [
    "from scipy.stats import hypergeom\n",
    "import matplotlib.pyplot as plt\n",
    "#M 100 chips, x = 1,2,3 ...20 chips com defeito , N existem 4 com defeitos\n",
    "\n",
    "\n",
    "[M, n, N] = [100, 20, 4]\n",
    "rv = hypergeom(M, n, N)\n",
    "x = np.arange(0, n+1)\n",
    "print(x)\n",
    "#P\n",
    "pmf_chip = rv.pmf(x) #PMF de cada possibilidade de erro em x\n",
    "\n",
    "print(pmf_chip,\";;;;\",rv) # verificando valores\n",
    "\n",
    "\n",
    "fig = plt.figure()\n",
    "ax = fig.add_subplot(111)\n",
    "ax.plot(x, pmf_chip, 'bo', ms=8, label ='X~Hypergeom(k,100,4)')\n",
    "#Eixo y = 08\n",
    "ax.vlines(x, 0.8, pmf_chip, lw=0, alpha=0.5)\n",
    "ax.set_xlabel('# Quantidade de chips')\n",
    "ax.set_ylabel('Hipergeometrica : PMF = Probabilidade de tirar chips defeituosos de um grupo de chips')\n",
    "ax.legend(loc='best', frameon=False)\n",
    "plt.show()\n",
    "\n"
   ]
  },
  {
   "cell_type": "code",
   "execution_count": 669,
   "metadata": {
    "scrolled": true
   },
   "outputs": [
    {
     "name": "stdout",
     "output_type": "stream",
     "text": [
      "(array([ 0.40333824,  0.82239096,  0.97550638,  0.99876442,  1.        ,\n",
      "        1.        ,  1.        ,  1.        ,  1.        ,  1.        ,\n",
      "        1.        ,  1.        ,  1.        ,  1.        ,  1.        ,\n",
      "        1.        ,  1.        ,  1.        ,  1.        ,  1.        ,  1.        ]), <scipy.stats._distn_infrastructure.rv_frozen object at 0x97dc204c>)\n"
     ]
    },
    {
     "data": {
      "image/png": "[encoded data removed]",
      "text/plain": [
       "<matplotlib.figure.Figure at 0x9a26c18c>"
      ]
     },
     "metadata": {},
     "output_type": "display_data"
    }
   ],
   "source": [
    "cdf_chip = rv.cdf(x)\n",
    "print(cdf_chip,rv)\n",
    "\n",
    "\n",
    "fig = plt.figure()\n",
    "ax1 = fig.add_subplot(111)\n",
    "ay = fig.add_subplot(111)\n",
    "ax1.plot(x, cdf_chip, 'bo', ms=10, label='X~Hypergeom(k,100,4)')\n",
    "#Eixo y = 08\n",
    "ax1.vlines(x, 0.8, cdf_chip, colors='b', lw=0, alpha=0.5)\n",
    "ax1.set_xlabel('# Tirar chips ')\n",
    "ax1.set_ylabel('Hipergeometrica : CMF = Probabilidade de tirar chips defeituosos de um grupo de chips')\n",
    "ay.legend(loc='best', frameon=False)\n",
    "plt.show()"
   ]
  },
  {
   "cell_type": "markdown",
   "metadata": {},
   "source": [
    "<h3>Distribuição de Poison</h3>"
   ]
  },
  {
   "cell_type": "code",
   "execution_count": 740,
   "metadata": {},
   "outputs": [
    {
     "data": {
      "image/png": "[encoded data removed]",
      "text/plain": [
       "<matplotlib.figure.Figure at 0x967c6a6c>"
      ]
     },
     "metadata": {},
     "output_type": "display_data"
    }
   ],
   "source": [
    "#CDF\n",
    "mu = 1\n",
    "x = linspace(0,30,31)\n",
    "\n",
    "\n",
    "plt.bar(x, mu)\n",
    "plt.xlabel('#A cada dia analisado sua probabilidade eh somada aos dias passados')\n",
    "plt.ylabel('Probabilidade')\n",
    "plt.show()\n"
   ]
  },
  {
   "cell_type": "code",
   "execution_count": 729,
   "metadata": {},
   "outputs": [
    {
     "data": {
      "image/png": "[encoded data removed]",
      "text/plain": [
       "<matplotlib.figure.Figure at 0x93a35bcc>"
      ]
     },
     "metadata": {},
     "output_type": "display_data"
    }
   ],
   "source": [
    "from scipy.stats import poisson\n",
    "from scipy.stats import binom\n",
    "import matplotlib.pyplot as plt\n",
    "fig, ax = plt.subplots(1, 1)\n",
    "N=20\n",
    "p=.05\n",
    "#mu = n*p\n",
    "\n",
    "mu = N*p\n",
    "mean, var, skew, kurt = poisson.stats(mu, moments='mvsk')\n",
    "\n",
    "x = np.arange(poisson.ppf(0.01, mu),\n",
    "           poisson.ppf(0.99, mu))\n",
    "ax.plot(x, poisson.pmf(x, mu), 'bo', ms=8, label='Y~poisson(20,0.05)')\n",
    "ax.vlines(x, 0, poisson.pmf(x, mu), colors='b', lw=0, alpha=0)\n",
    "\n",
    "rv = poisson(mu)\n",
    "ax.vlines(x, 0, rv.pmf(x), colors='b', lw=0)\n",
    "ax.legend(loc='best', frameon=False)\n",
    "\n",
    "\n",
    "mean, var, skew, kurt = binom.stats(N, p, moments='mvsk')\n",
    "\n",
    "x1 = np.arange(binom.ppf(0.01, N, p),\n",
    "              binom.ppf(0.99, N, p))\n",
    "ax1.vlines(x1, 0, binom.pmf(x1, n, p), colors='b', lw=5, alpha=0.5)\n",
    "rv = binom(n, p)\n",
    "ax1.vlines(x1, 0, rv.pmf(x), colors='k', linestyles='-', lw=1,\n",
    "      label='frozen pmf')\n",
    "ax1.legend(loc='best', frameon=False)\n",
    "plt.show()\n",
    "\n",
    "\n"
   ]
  },
  {
   "cell_type": "code",
   "execution_count": 533,
   "metadata": {},
   "outputs": [
    {
     "name": "stdout",
     "output_type": "stream",
     "text": [
      "1\n"
     ]
    },
    {
     "ename": "AttributeError",
     "evalue": "'builtin_function_or_method' object has no attribute 'pmf'",
     "output_type": "error",
     "traceback": [
      "\u001b[0;31m---------------------------------------------------------------------------\u001b[0m",
      "\u001b[0;31mAttributeError\u001b[0m                            Traceback (most recent call last)",
      "\u001b[0;32m<ipython-input-533-f7fc435c3dd9>\u001b[0m in \u001b[0;36m<module>\u001b[0;34m()\u001b[0m\n\u001b[1;32m      4\u001b[0m \u001b[0;32mprint\u001b[0m\u001b[0;34m(\u001b[0m\u001b[0mla\u001b[0m\u001b[0;34m)\u001b[0m\u001b[0;34m\u001b[0m\u001b[0m\n\u001b[1;32m      5\u001b[0m \u001b[0;34m\u001b[0m\u001b[0m\n\u001b[0;32m----> 6\u001b[0;31m \u001b[0mpoisson\u001b[0m\u001b[0;34m.\u001b[0m\u001b[0mpmf\u001b[0m \u001b[0;34m=\u001b[0m \u001b[0me\u001b[0m\u001b[0;34m**\u001b[0m\u001b[0;34m(\u001b[0m\u001b[0mla\u001b[0m\u001b[0;34m)\u001b[0m\u001b[0;34m\u001b[0m\u001b[0m\n\u001b[0m\u001b[1;32m      7\u001b[0m \u001b[0;31m#poisson.pmf(outcome_counts) = e(-mu) * mu**outcome_counts / outcome_counts!\u001b[0m\u001b[0;34m\u001b[0m\u001b[0;34m\u001b[0m\u001b[0m\n",
      "\u001b[0;31mAttributeError\u001b[0m: 'builtin_function_or_method' object has no attribute 'pmf'"
     ]
    }
   ],
   "source": [
    "#e =ou - 2,718\n",
    "e=2\n",
    "la = 1\n",
    "print(la)\n",
    "\n",
    "poisson.pmf = e**(la)\n",
    "#poisson.pmf(outcome_counts) = e(-mu) * mu**outcome_counts / outcome_counts!"
   ]
  },
  {
   "cell_type": "code",
   "execution_count": null,
   "metadata": {
    "collapsed": true
   },
   "outputs": [],
   "source": []
  }
 ],
 "metadata": {
  "kernelspec": {
   "display_name": "Python 2",
   "language": "python",
   "name": "python2"
  },
  "language_info": {
   "codemirror_mode": {
    "name": "ipython",
    "version": 2
   },
   "file_extension": ".py",
   "mimetype": "text/x-python",
   "name": "python",
   "nbconvert_exporter": "python",
   "pygments_lexer": "ipython2",
   "version": "2.7.14"
  }
 },
 "nbformat": 4,
 "nbformat_minor": 2
}
